{
 "cells": [
  {
   "cell_type": "markdown",
   "metadata": {},
   "source": [
    "# Les simulations"
   ]
  },
  {
   "cell_type": "markdown",
   "metadata": {},
   "source": [
    "## Le jeu de dé"
   ]
  },
  {
   "cell_type": "code",
   "execution_count": 14,
   "metadata": {},
   "outputs": [
    {
     "name": "stdout",
     "output_type": "stream",
     "text": [
      "{1: 166612, 2: 167121, 3: 167019, 4: 166107, 5: 166800, 6: 166341}\n",
      "{1: 0.166612, 2: 0.167121, 3: 0.167019, 4: 0.166107, 5: 0.1668, 6: 0.166341}\n"
     ]
    }
   ],
   "source": [
    "import random \n",
    "\n",
    "nb_lancers=1_000_000\n",
    "\n",
    "res=dict((k,0) for k in range(1,7))  # dictionnaire des résultats\n",
    "\n",
    "\n",
    "for k in range(nb_lancers): # les simulations\n",
    "    t=random.randint(1,6)\n",
    "    res[t]+=1\n",
    "print(res)\n",
    "\n",
    "# les fréquences\n",
    "freq=dict((c,v/nb_lancers) for (c,v) in res.items())\n",
    "print(freq)"
   ]
  },
  {
   "cell_type": "markdown",
   "metadata": {},
   "source": [
    "## Le lancer de deux dés"
   ]
  },
  {
   "cell_type": "code",
   "execution_count": 11,
   "metadata": {},
   "outputs": [
    {
     "name": "stdout",
     "output_type": "stream",
     "text": [
      "{2: 27683, 3: 55716, 4: 83338, 5: 110207, 6: 139277, 7: 166743, 8: 139098, 9: 110759, 10: 83838, 11: 55741, 12: 27600}\n",
      "{2: 0.027683, 3: 0.055716, 4: 0.083338, 5: 0.110207, 6: 0.139277, 7: 0.166743, 8: 0.139098, 9: 0.110759, 10: 0.083838, 11: 0.055741, 12: 0.0276}\n"
     ]
    }
   ],
   "source": [
    "import random \n",
    "\n",
    "nb_lancers=1_000_000\n",
    "\n",
    "res=dict((k,0) for k in range(2,13))  # dictionnaire des résultats\n",
    "\n",
    "\n",
    "for k in range(nb_lancers): # les simulations\n",
    "    t=random.randint(1,6)+random.randint(1,6)\n",
    "    res[t]+=1\n",
    "print(res)\n",
    "\n",
    "# les fréquences\n",
    "freq=dict((c,v/nb_lancers) for (c,v) in res.items())\n",
    "print(freq)"
   ]
  },
  {
   "cell_type": "markdown",
   "metadata": {},
   "source": [
    "## Le Pile ou Face"
   ]
  },
  {
   "cell_type": "code",
   "execution_count": 12,
   "metadata": {},
   "outputs": [
    {
     "name": "stdout",
     "output_type": "stream",
     "text": [
      "{'Pile': 499950, 'Face': 500050}\n",
      "{'Pile': 0.49995, 'Face': 0.50005}\n"
     ]
    }
   ],
   "source": [
    "import random \n",
    "\n",
    "nb_lancers=1_000_000\n",
    "\n",
    "choix=[\"Pile\",\"Face\"]\n",
    "res=dict((k,0) for k in choix)  # dictionnaire des résultats\n",
    "\n",
    "\n",
    "for k in range(nb_lancers): # les simulations\n",
    "    t=random.choice(choix)\n",
    "    res[t]+=1\n",
    "print(res)\n",
    "\n",
    "# les fréquences\n",
    "freq=dict((c,v/nb_lancers) for (c,v) in res.items())\n",
    "print(freq)"
   ]
  },
  {
   "cell_type": "markdown",
   "metadata": {},
   "source": [
    "## Les boules dans l'urne"
   ]
  },
  {
   "cell_type": "code",
   "execution_count": 16,
   "metadata": {},
   "outputs": [
    {
     "name": "stdout",
     "output_type": "stream",
     "text": [
      "{'Rouge': 332695, 'Vert': 500184, 'Bleu': 167121}\n",
      "{'Rouge': 0.332695, 'Vert': 0.500184, 'Bleu': 0.167121}\n"
     ]
    }
   ],
   "source": [
    "import random \n",
    "\n",
    "nb_lancers=1_000_000\n",
    "\n",
    "choix=[\"Rouge\",\"Rouge\",\"Vert\",\"Vert\",\"Vert\",\"Bleu\"]\n",
    "res=dict((k,0) for k in choix)  # dictionnaire des résultats\n",
    "\n",
    "\n",
    "for k in range(nb_lancers): # les simulations\n",
    "    t=random.choice(choix)\n",
    "    res[t]+=1\n",
    "print(res)\n",
    "\n",
    "# les fréquences\n",
    "freq=dict((c,v/nb_lancers) for (c,v) in res.items())\n",
    "print(freq)"
   ]
  },
  {
   "cell_type": "code",
   "execution_count": null,
   "metadata": {},
   "outputs": [],
   "source": []
  },
  {
   "cell_type": "code",
   "execution_count": null,
   "metadata": {},
   "outputs": [],
   "source": []
  }
 ],
 "metadata": {
  "kernelspec": {
   "display_name": "Python 3",
   "language": "python",
   "name": "python3"
  },
  "language_info": {
   "codemirror_mode": {
    "name": "ipython",
    "version": 3
   },
   "file_extension": ".py",
   "mimetype": "text/x-python",
   "name": "python",
   "nbconvert_exporter": "python",
   "pygments_lexer": "ipython3",
   "version": "3.6.7"
  }
 },
 "nbformat": 4,
 "nbformat_minor": 2
}
