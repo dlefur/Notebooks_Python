{
 "cells": [
  {
   "cell_type": "markdown",
   "metadata": {},
   "source": [
    "# Mémo Python3"
   ]
  },
  {
   "cell_type": "markdown",
   "metadata": {},
   "source": [
    "## Jouer avec le terminal"
   ]
  },
  {
   "cell_type": "code",
   "execution_count": null,
   "metadata": {},
   "outputs": [],
   "source": [
    "2+3"
   ]
  },
  {
   "cell_type": "markdown",
   "metadata": {},
   "source": [
    "## Afficher des résultats avec l'instruction print"
   ]
  },
  {
   "cell_type": "code",
   "execution_count": null,
   "metadata": {},
   "outputs": [],
   "source": [
    "a = 3*5\n",
    "print(a)\n",
    "print(f\"La valeur de a vaut {a} .\")"
   ]
  },
  {
   "cell_type": "markdown",
   "metadata": {},
   "source": [
    "## L'instruction if elif else\n",
    "\n",
    "À noter qu'on peut enlever le bloc else, enlever ou rajouter des blocs elif."
   ]
  },
  {
   "cell_type": "code",
   "execution_count": null,
   "metadata": {},
   "outputs": [],
   "source": [
    "# modifier la note\n",
    "note = 13\n",
    "\n",
    "\n",
    "if note >= 16 : # <--- ne pas oublier les :\n",
    "    print(\"Très bien\")\n",
    "elif note >=14 :\n",
    "    print(\"Bien\")\n",
    "elif note >=12 :\n",
    "    print(\"Assez bien\")\n",
    "elif note >=10 :\n",
    "    print(\"Reçu\")\n",
    "elif note >=8 :\n",
    "    print(\"Second groupe\")    \n",
    "else :\n",
    "    print(\"Recalé\")"
   ]
  },
  {
   "cell_type": "markdown",
   "metadata": {},
   "source": [
    "## La boucle while"
   ]
  },
  {
   "cell_type": "code",
   "execution_count": null,
   "metadata": {},
   "outputs": [],
   "source": [
    "a=7\n",
    "while(a>4): # <--- ne pas oublier les :\n",
    "    print(f\"a = {a}\")\n",
    "    a=a-1\n",
    "print(\"On est sorti de la boucle.\")"
   ]
  },
  {
   "cell_type": "markdown",
   "metadata": {},
   "source": [
    "## La boucle for\n",
    "\n",
    "Cette boucle s'applique sur une liste mais aussi sur des chaînes de caractères, des dictionnaires, ..."
   ]
  },
  {
   "cell_type": "code",
   "execution_count": null,
   "metadata": {},
   "outputs": [],
   "source": [
    "# Exemple sur une liste\n",
    "L=[1,\"moi\",4,3.7]\n",
    "for el in L : # <--- ne pas oublier les :\n",
    "    print(f\"valeur : {el}\")"
   ]
  },
  {
   "cell_type": "code",
   "execution_count": null,
   "metadata": {},
   "outputs": [],
   "source": [
    "# Exemple avec range\n",
    "# Attention : range(5) va aller de 0 à 4 !!!!!!\n",
    "for k in range(5) : # <--- ne pas oublier les :\n",
    "    print(k)"
   ]
  },
  {
   "cell_type": "code",
   "execution_count": null,
   "metadata": {},
   "outputs": [],
   "source": [
    "# Exemple avec une chaîne de caractères\n",
    "mot=\"Pasteur\"\n",
    "for lettre in mot : # <--- ne pas oublier les :\n",
    "    print(lettre)"
   ]
  },
  {
   "cell_type": "markdown",
   "metadata": {},
   "source": [
    "## Les entrées\n",
    "Une entrée renvoyée par la fonction input() est une chaîne de caractéres. On doit ensuite au besoin la convertir."
   ]
  },
  {
   "cell_type": "code",
   "execution_count": 37,
   "metadata": {},
   "outputs": [
    {
     "name": "stdout",
     "output_type": "stream",
     "text": [
      "Comment t'appelles-tu ? Denis\n",
      "je suis heureux de faire ta connaissance, Denis !\n"
     ]
    }
   ],
   "source": [
    "# pas besoin de convertir l'entrée\n",
    "nom = input(\"Comment t'appelles-tu ? \")\n",
    "print(f\"je suis heureux de faire ta connaissance, {nom} !\")"
   ]
  },
  {
   "cell_type": "code",
   "execution_count": 38,
   "metadata": {},
   "outputs": [
    {
     "name": "stdout",
     "output_type": "stream",
     "text": [
      "Table de multiplication de :74\n",
      "74 x 0 = 0\n",
      "74 x 1 = 74\n",
      "74 x 2 = 148\n",
      "74 x 3 = 222\n",
      "74 x 4 = 296\n",
      "74 x 5 = 370\n",
      "74 x 6 = 444\n",
      "74 x 7 = 518\n",
      "74 x 8 = 592\n",
      "74 x 9 = 666\n",
      "74 x 10 = 740\n"
     ]
    }
   ],
   "source": [
    "# besoin de convertir l'entrée en un entier\n",
    "n= int(input(\"Table de multiplication de :\"))\n",
    "for k in range(11):\n",
    "    print(f\"{n} x {k} = {n*k}\")"
   ]
  },
  {
   "cell_type": "code",
   "execution_count": null,
   "metadata": {},
   "outputs": [],
   "source": []
  }
 ],
 "metadata": {
  "kernelspec": {
   "display_name": "Python 3",
   "language": "python",
   "name": "python3"
  },
  "language_info": {
   "codemirror_mode": {
    "name": "ipython",
    "version": 3
   },
   "file_extension": ".py",
   "mimetype": "text/x-python",
   "name": "python",
   "nbconvert_exporter": "python",
   "pygments_lexer": "ipython3",
   "version": "3.6.7"
  }
 },
 "nbformat": 4,
 "nbformat_minor": 2
}
