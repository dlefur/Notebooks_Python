{
 "cells": [
  {
   "cell_type": "markdown",
   "metadata": {},
   "source": [
    "# Affichage et formatage des résultats"
   ]
  },
  {
   "cell_type": "markdown",
   "metadata": {},
   "source": [
    "## Affichage direct"
   ]
  },
  {
   "cell_type": "code",
   "execution_count": 1,
   "metadata": {},
   "outputs": [
    {
     "name": "stdout",
     "output_type": "stream",
     "text": [
      "Voici un message.\n"
     ]
    }
   ],
   "source": [
    "# un texte\n",
    "print(\"Voici un message.\")"
   ]
  },
  {
   "cell_type": "code",
   "execution_count": 3,
   "metadata": {},
   "outputs": [
    {
     "name": "stdout",
     "output_type": "stream",
     "text": [
      "7\n",
      "a =  7\n"
     ]
    }
   ],
   "source": [
    "#la valeur d'une variable\n",
    "a = 7\n",
    "print(a)\n",
    "print(\"a = \", a)"
   ]
  },
  {
   "cell_type": "markdown",
   "metadata": {},
   "source": [
    "## Affichage avec les f-strings (conseillé)\n",
    "Cette affichage est beaucoup plus naturel. Ne pas oublier le f devant les guillements !!!!!"
   ]
  },
  {
   "cell_type": "code",
   "execution_count": 4,
   "metadata": {},
   "outputs": [
    {
     "name": "stdout",
     "output_type": "stream",
     "text": [
      "La somme de 3 et 5 vaut 8.\n"
     ]
    }
   ],
   "source": [
    "a = 3\n",
    "b = 5\n",
    "print(f\"La somme de {a} et {b} vaut {a+b}.\")"
   ]
  },
  {
   "cell_type": "markdown",
   "metadata": {},
   "source": [
    "## Formatage des entiers"
   ]
  },
  {
   "cell_type": "code",
   "execution_count": 9,
   "metadata": {},
   "outputs": [
    {
     "name": "stdout",
     "output_type": "stream",
     "text": [
      "a = 14\n",
      "a =   14\n",
      "a = 0014\n"
     ]
    }
   ],
   "source": [
    "a = 14\n",
    "print(f\"a = {a}\")    # pas d'instruction de formatage\n",
    "print(f\"a = {a:4d}\") # au moins 4 caractères, si besoin des blancs\n",
    "print(f\"a = {a:04d}\") # au moins 4 caractères si besoin des 0"
   ]
  },
  {
   "cell_type": "markdown",
   "metadata": {},
   "source": [
    "## Formatage des flottants"
   ]
  },
  {
   "cell_type": "code",
   "execution_count": 17,
   "metadata": {},
   "outputs": [
    {
     "name": "stdout",
     "output_type": "stream",
     "text": [
      "b = 3.14116\n",
      "b = 3.141\n",
      "b =   3.14\n",
      "b = 003.14\n"
     ]
    }
   ],
   "source": [
    "b=3.14116\n",
    "print(f\"b = {b}\")       # pas d'instruction de formatage\n",
    "print(f\"b = {b:.3f}\")   # 3 chiffres après la virgule\n",
    "print(f\"b = {b:6.2f}\")  # au moins 6 caractères, dont deux chiffres après la virgule, si besoin des blancs\n",
    "print(f\"b = {b:06.2f}\") # au moins 6 caractères, dont deux chiffres après la virgule, si besoin des zéros\n"
   ]
  },
  {
   "cell_type": "markdown",
   "metadata": {},
   "source": [
    "## Affichage de la date"
   ]
  },
  {
   "cell_type": "code",
   "execution_count": 38,
   "metadata": {},
   "outputs": [
    {
     "name": "stdout",
     "output_type": "stream",
     "text": [
      "05-01-19\n",
      "Voici la date du jour : mercredi 01 mai 2019\n",
      "Nous sommes le mercredi 01 mai de l'année 2019.\n",
      "Voici l'heure actuelle : 14 : 57 : 34\n",
      "À ma montre, il est 14 h 57 : 34.\n"
     ]
    }
   ],
   "source": [
    "import locale\n",
    "locale.setlocale(locale.LC_TIME, 'fr_FR.UTF-8')\n",
    "from datetime import datetime\n",
    "date = datetime.now()\n",
    "print(date.strftime('%m-%d-%y'))\n",
    "date_formatee=date.strftime(\"%A %d %B %Y\")\n",
    "print(f\"Voici la date du jour : {date_formatee}\")\n",
    "jour=date.strftime(\"%A\")\n",
    "njour=date.strftime(\"%d\")\n",
    "mois=date.strftime(\"%B\")\n",
    "annee=date.strftime(\"%Y\")\n",
    "print(f\"Nous sommes le {jour} {njour} {mois} de l'année {annee}.\")\n",
    "minutes=date.strftime(\"%M\")\n",
    "heures=date.strftime(\"%H\")\n",
    "secondes=date.strftime(\"%S\")\n",
    "heure_formatee=date.strftime(\"%H : %M : %S\")\n",
    "print(f\"Voici l'heure actuelle : {heure_formatee}\")\n",
    "print(f\"À ma montre, il est {heures} h {minutes} : {secondes}.\")"
   ]
  },
  {
   "cell_type": "code",
   "execution_count": null,
   "metadata": {},
   "outputs": [],
   "source": []
  }
 ],
 "metadata": {
  "kernelspec": {
   "display_name": "Python 3",
   "language": "python",
   "name": "python3"
  },
  "language_info": {
   "codemirror_mode": {
    "name": "ipython",
    "version": 3
   },
   "file_extension": ".py",
   "mimetype": "text/x-python",
   "name": "python",
   "nbconvert_exporter": "python",
   "pygments_lexer": "ipython3",
   "version": "3.6.7"
  }
 },
 "nbformat": 4,
 "nbformat_minor": 2
}
