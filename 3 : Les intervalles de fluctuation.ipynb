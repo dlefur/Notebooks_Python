{
 "cells": [
  {
   "cell_type": "markdown",
   "metadata": {},
   "source": [
    "# Les intervalles de fluctuation"
   ]
  },
  {
   "cell_type": "markdown",
   "metadata": {},
   "source": [
    "## Les paramètres"
   ]
  },
  {
   "cell_type": "code",
   "execution_count": 1,
   "metadata": {},
   "outputs": [],
   "source": [
    "import math \n",
    "p=0.7\n",
    "n=100"
   ]
  },
  {
   "cell_type": "markdown",
   "metadata": {},
   "source": [
    "## En seconde"
   ]
  },
  {
   "cell_type": "code",
   "execution_count": 2,
   "metadata": {},
   "outputs": [
    {
     "name": "stdout",
     "output_type": "stream",
     "text": [
      "I=[0.60000000 ; 0.80000000]\n"
     ]
    }
   ],
   "source": [
    "k=1/math.sqrt(n)\n",
    "\n",
    "a=p-k\n",
    "b=p+k\n",
    "\n",
    "print(f\"I=[{a:.8f} ; {b:.8f}]\")"
   ]
  },
  {
   "cell_type": "markdown",
   "metadata": {},
   "source": [
    "## En terminale"
   ]
  },
  {
   "cell_type": "code",
   "execution_count": 3,
   "metadata": {},
   "outputs": [
    {
     "name": "stdout",
     "output_type": "stream",
     "text": [
      "I=[0.61018152 ; 0.78981848]\n"
     ]
    }
   ],
   "source": [
    "k=1.96*math.sqrt(p*(1-p))/math.sqrt(n)\n",
    "\n",
    "a=p-k\n",
    "b=p+k\n",
    "\n",
    "print(f\"I=[{a:.8f} ; {b:.8f}]\")"
   ]
  },
  {
   "cell_type": "markdown",
   "metadata": {},
   "source": [
    "## En Première"
   ]
  },
  {
   "cell_type": "code",
   "execution_count": 4,
   "metadata": {},
   "outputs": [
    {
     "name": "stdout",
     "output_type": "stream",
     "text": [
      "I=[0.61000000 ; 0.79000000]\n"
     ]
    }
   ],
   "source": [
    "#------------------------------------------------------\n",
    "def fact(n) :\n",
    "    \"Calcule factoriel n.\"\n",
    "    if (n==0) :\n",
    "        return 1\n",
    "    else :\n",
    "        p=1\n",
    "        for k in range(1,n+1):\n",
    "            p=p*k\n",
    "        return p\n",
    "\n",
    "#------------------------------------------------------\n",
    "def combin (n,k):\n",
    "    \"Calcule  k parmi n.\"\n",
    "    p=1\n",
    "    for i in range(n-k+1,n+1) :\n",
    "        p=p*i\n",
    "    return p//fact(k)\n",
    "\n",
    "\n",
    "\n",
    "def binomial(n,p,k):\n",
    "    \"Calcule p(x=k)\"\n",
    "    return math.exp(math.log(combin(n,k))+k*math.log(p)+(n-k)*math.log(1-p))\n",
    "\n",
    "cumul=0\n",
    "d=dict() # dictionaire des (k,p(x=k))\n",
    "for k in range(n+1):\n",
    "    cumul+=binomial(n,p,k)\n",
    "    d[k]=cumul\n",
    "\n",
    "for (c,v) in d.items() : # recherche de a\n",
    "    if v>0.025 :\n",
    "        a=c\n",
    "        break\n",
    "        \n",
    "for (c,v) in d.items() : # recherche de b\n",
    "    if v>0.975 :\n",
    "        b=c\n",
    "        break\n",
    "\n",
    "print(f\"I=[{a/n:.8f} ; {b/n:.8f}]\")"
   ]
  },
  {
   "cell_type": "code",
   "execution_count": 16,
   "metadata": {},
   "outputs": [
    {
     "name": "stdout",
     "output_type": "stream",
     "text": [
      "  52 | 0.000117\n",
      "  53 | 0.000256\n",
      "  54 | 0.000537\n",
      "  55 | 0.001086\n",
      "  56 | 0.002115\n",
      "  57 | 0.003968\n",
      "  58 | 0.007174\n",
      "  59 | 0.012498\n",
      "  60 | 0.020989\n",
      "------------------ 0,025\n",
      "  61 | 0.033979\n",
      "  62 | 0.053046\n",
      "  63 | 0.079880\n",
      "  64 | 0.116079\n",
      "  65 | 0.162858\n",
      "  66 | 0.220742\n",
      "  67 | 0.289281\n",
      "  68 | 0.366892\n",
      "  69 | 0.450876\n",
      "  70 | 0.537660\n"
     ]
    }
   ],
   "source": [
    "d_bas=dict((c,v) for (c,v) in d.items() if a-10<c<a+10)\n",
    "for (c,v) in d_bas.items():\n",
    "    print(f\"{c:4d} | {v:.6f}\")\n",
    "    if (c==a-1):\n",
    "        print(\"------------------ 0,025\")"
   ]
  },
  {
   "cell_type": "code",
   "execution_count": 14,
   "metadata": {},
   "outputs": [
    {
     "name": "stdout",
     "output_type": "stream",
     "text": [
      "  70 | 0.537660\n",
      "  71 | 0.623222\n",
      "  72 | 0.703634\n",
      "  73 | 0.775601\n",
      "  74 | 0.836870\n",
      "  75 | 0.886430\n",
      "  76 | 0.924469\n",
      "  77 | 0.952134\n",
      "  78 | 0.971169\n",
      "------------------ 0,975\n",
      "  79 | 0.983537\n",
      "  80 | 0.991113\n",
      "  81 | 0.995477\n",
      "  82 | 0.997837\n",
      "  83 | 0.999031\n",
      "  84 | 0.999595\n",
      "  85 | 0.999843\n",
      "  86 | 0.999943\n",
      "  87 | 0.999981\n",
      "  88 | 0.999994\n"
     ]
    }
   ],
   "source": [
    "d_haut=dict((c,v) for (c,v) in d.items() if b-10<c<b+10)\n",
    "for (c,v) in d_haut.items():\n",
    "    print(f\"{c:4d} | {v:.6f}\")\n",
    "    if (c==b-1):\n",
    "        print(\"------------------ 0,975\")"
   ]
  },
  {
   "cell_type": "code",
   "execution_count": null,
   "metadata": {},
   "outputs": [],
   "source": []
  }
 ],
 "metadata": {
  "kernelspec": {
   "display_name": "Python 3",
   "language": "python",
   "name": "python3"
  },
  "language_info": {
   "codemirror_mode": {
    "name": "ipython",
    "version": 3
   },
   "file_extension": ".py",
   "mimetype": "text/x-python",
   "name": "python",
   "nbconvert_exporter": "python",
   "pygments_lexer": "ipython3",
   "version": "3.6.7"
  }
 },
 "nbformat": 4,
 "nbformat_minor": 2
}
